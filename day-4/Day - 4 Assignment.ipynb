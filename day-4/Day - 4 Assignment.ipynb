{
 "cells": [
  {
   "cell_type": "markdown",
   "metadata": {},
   "source": [
    "### Research on whether addition, subtraction, multiplication, division, floor division and modulo operations be performed on complex numbers. Based on your study, implement a Python program to demonstrate these operations."
   ]
  },
  {
   "cell_type": "code",
   "execution_count": 5,
   "metadata": {},
   "outputs": [
    {
     "name": "stdout",
     "output_type": "stream",
     "text": [
      "add (7+3j)\n",
      "sub (3+1j)\n",
      "mult (8+9j)\n",
      "div (2.4-0.2j)\n"
     ]
    }
   ],
   "source": [
    "a=5+2j\n",
    "b=2+1j\n",
    "# addition\n",
    "c=a+b\n",
    "print(\"add\",c)\n",
    "# sub\n",
    "d=a-b\n",
    "print(\"sub\",d)\n",
    "#mult\n",
    "e=a*b\n",
    "print(\"mult\",e)\n",
    "# divide\n",
    "f=a/b\n",
    "print(\"div\",f)\n",
    "#floor dividion\n",
    "# g=a//b            it doesn't works\n",
    "# print('floor',g)\n",
    "# modulo\n",
    "# h=a%b            it doesn't works\n",
    "# print('mod',h)"
   ]
  },
  {
   "cell_type": "markdown",
   "metadata": {},
   "source": [
    "### Range Function\n",
    "    range function is mainly used generate a sequence of numbers over time,it contain of start value ,end value sometimes we can use specific operations (ie,range(10,20,3) it'll print the third value as output\n",
    "    \n",
    "    eg:\n",
    "     for i in range(10,50,3):\n",
    "        if i%2==0: \n",
    "            print(\"Even\",i)\n",
    "        else:\n",
    "            print(\"odd\")"
   ]
  },
  {
   "cell_type": "markdown",
   "metadata": {},
   "source": [
    "### Consider two numbers. Perform their subtraction and if the result of subtraction is greater than 25, print their multiplication result else print their division result.\n",
    "    "
   ]
  },
  {
   "cell_type": "code",
   "execution_count": 16,
   "metadata": {},
   "outputs": [
    {
     "name": "stdout",
     "output_type": "stream",
     "text": [
      "mult 5000\n"
     ]
    }
   ],
   "source": [
    "a=100\n",
    "b=50\n",
    "c=a-b\n",
    "if c>25:\n",
    "    print(\"mult\",a*b)\n",
    "else:\n",
    "    print(\"div\",a/b)"
   ]
  },
  {
   "cell_type": "markdown",
   "metadata": {},
   "source": [
    "### Consider a list of 10 elements of integer values. If the number in the list is divisible by 2, print the result as \"square of that number minus 2\".\n"
   ]
  },
  {
   "cell_type": "code",
   "execution_count": 24,
   "metadata": {},
   "outputs": [
    {
     "name": "stdout",
     "output_type": "stream",
     "text": [
      "98\n",
      "398\n",
      "1934\n",
      "5774\n",
      "5774\n",
      "<class 'list'>\n"
     ]
    }
   ],
   "source": [
    "a =[10,20,44,33,65,76,89,76,77,89]\n",
    "for i in a:\n",
    "    if i%2==0:\n",
    "        print(i*i-2)\n",
    "    \n",
    "print(type(a))"
   ]
  },
  {
   "cell_type": "markdown",
   "metadata": {},
   "source": [
    "### Consider a list of 10 elements. Print all the elements in the list which are greater than 7 when that number is divided 2."
   ]
  },
  {
   "cell_type": "code",
   "execution_count": 25,
   "metadata": {},
   "outputs": [
    {
     "name": "stdout",
     "output_type": "stream",
     "text": [
      "10\n",
      "20\n",
      "44\n",
      "76\n",
      "76\n"
     ]
    }
   ],
   "source": [
    "a =[10,20,44,33,65,76,89,76,77,2]\n",
    "for i in a:\n",
    "    if i>7:\n",
    "        if i%2==0:\n",
    "            print(i)\n",
    "        "
   ]
  },
  {
   "cell_type": "code",
   "execution_count": null,
   "metadata": {},
   "outputs": [],
   "source": []
  },
  {
   "cell_type": "code",
   "execution_count": null,
   "metadata": {},
   "outputs": [],
   "source": []
  },
  {
   "cell_type": "code",
   "execution_count": null,
   "metadata": {},
   "outputs": [],
   "source": []
  }
 ],
 "metadata": {
  "kernelspec": {
   "display_name": "Python 3",
   "language": "python",
   "name": "python3"
  },
  "language_info": {
   "codemirror_mode": {
    "name": "ipython",
    "version": 3
   },
   "file_extension": ".py",
   "mimetype": "text/x-python",
   "name": "python",
   "nbconvert_exporter": "python",
   "pygments_lexer": "ipython3",
   "version": "3.7.6"
  }
 },
 "nbformat": 4,
 "nbformat_minor": 4
}
