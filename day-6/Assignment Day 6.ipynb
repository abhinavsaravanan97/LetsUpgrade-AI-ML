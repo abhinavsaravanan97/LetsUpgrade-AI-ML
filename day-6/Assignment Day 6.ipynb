{
 "cells": [
  {
   "cell_type": "markdown",
   "metadata": {},
   "source": [
    "### 1)Assuming that we have some email addresses in the \"username@companyname.com\" format, please write a program to print the company name of a given email address. Both user names and company names are composed of letters only.\n",
    "__Input Format:__\n",
    "    The first line of the input contains an email address.\n",
    "___Output Format:___\n",
    "    Print the company name in a single line.\n",
    "#### Example;\n",
    "__Input:__\n",
    "    john@google.com\n",
    "___Output:___\n",
    "    google."
   ]
  },
  {
   "cell_type": "code",
   "execution_count": 1,
   "metadata": {},
   "outputs": [
    {
     "name": "stdout",
     "output_type": "stream",
     "text": [
      "Enter the email address:jhon@google.com\n",
      "google\n"
     ]
    }
   ],
   "source": [
    "String = input(\"Enter the email address:\")\n",
    "Starting_Index = String.index('@') + 1\n",
    "Ending_Index = String.index('.')\n",
    "print(String[Starting_Index:Ending_Index])"
   ]
  },
  {
   "cell_type": "markdown",
   "metadata": {},
   "source": [
    "### 2)Write a program that accepts a comma-separated sequence of words as input and prints the words in a comma-separated sequence after sorting them alphabetically.\n",
    "__Input Format:__\n",
    "The first line of input contains words separated by the comma.\n",
    "___Output Format:___\n",
    "Print the sorted words separated by the comma.\n",
    "#### Example:\n",
    "__Input:__\n",
    "without,hello,bag,world\n",
    "___Output:___\n",
    "bag,hello,without,world"
   ]
  },
  {
   "cell_type": "code",
   "execution_count": 2,
   "metadata": {},
   "outputs": [
    {
     "name": "stdout",
     "output_type": "stream",
     "text": [
      "Enter the comma-separated string as input:without,hello,bag,world\n",
      "bag,hello,without,world\n"
     ]
    }
   ],
   "source": [
    "String = input(\"Enter the comma-separated string as input:\")\n",
    "List = list(String.split(','))\n",
    "print(\",\".join(sorted(List)))"
   ]
  },
  {
   "cell_type": "markdown",
   "metadata": {},
   "source": [
    "### 3)Create your own Jupyter Notebook for Sets. Reference link: https://www.w3schools.com/python/python_sets.asp"
   ]
  },
  {
   "cell_type": "markdown",
   "metadata": {},
   "source": [
    "## Set\n",
    "    Set is a unordered, unindexed, mutable and has no dupicate element. In python stes are written in curly brakets.\n",
    "\n",
    "## Frozen set\n",
    "    Frozen sets in Python are immutable objects that only support methods and operators that produce a result without affecting the frozen set or sets to which they are applied\n",
    "    \n",
    "### Function\n",
    "    add()\tAdds an element to the set\n",
    "    clear()\tRemoves all the elements from the set\n",
    "    copy()\tReturns a copy of the set\n",
    "    difference()\tReturns a set containing the difference between two or more sets\n",
    "    difference_update()\tRemoves the items in this set that are also included in another, specified set\n",
    "    discard()\tRemove the specified item   \n",
    "    intersection()\tReturns a set, that is the intersection of two other sets\n",
    "    intersection_update()\tRemoves the items in this set that are not present in other, specified set(s)\n",
    "    isdisjoint()\tReturns whether two sets have a intersection or not\n",
    "    issubset()\tReturns whether another set contains this set or not\n",
    "    issuperset()\tReturns whether this set contains another set or not\n",
    "    pop()\tRemoves an element from the set\n",
    "    remove()\tRemoves the specified element\n",
    "    symmetric_difference()\tReturns a set with the symmetric differences of two sets\n",
    "    symmetric_difference_update()\tinserts the symmetric differences from this set and another\n",
    "    union()\tReturn a set containing the union of sets\n",
    "    update()\tUpdate the set with the union of this set and others\n",
    "\n",
    "### Example1:\n",
    "    thisset = {\"apple\", \"banana\", \"cherry\"}\n",
    "    print(thisset)\n",
    "   >output:\n",
    "        {'banana', 'cherry', 'apple'}\n",
    "        \n",
    "### Example2:\n",
    "    thisset = set((\"apple\", \"banana\", \"cherry\")) # note the double round-brackets\n",
    "    print(thisset)\n",
    "   >Using the set() constructor to make a set:\n",
    "   \n",
    "   >output:\n",
    "       {'cherry', 'apple', 'banana'}"
   ]
  },
  {
   "cell_type": "markdown",
   "metadata": {},
   "source": [
    "### 4)Given a list of n-1 numbers ranging from 1 to n, your task is to find the missing number. There are no duplicates.\n",
    "__Input Format:__\n",
    "The first line contains n-1 numbers with each number separated by a space.\n",
    "___Output Format:___\n",
    "Print the missing number\n",
    "##### Example:\n",
    "__Input:__\n",
    "1 2 4 6 3 7 8\n",
    "___Output:___\n",
    "5\n",
    ">Explanation:\n",
    "In the above list of numbers 5 is missing and hence 5 is the input"
   ]
  },
  {
   "cell_type": "code",
   "execution_count": 3,
   "metadata": {},
   "outputs": [
    {
     "name": "stdout",
     "output_type": "stream",
     "text": [
      "Enter the intger numbers with missing value with space sperated:1 2 4 6 3 7 8\n",
      "5 "
     ]
    }
   ],
   "source": [
    "String = input(\"Enter the intger numbers with missing value with space sperated:\")\n",
    "List = list((String.split(\" \")))\n",
    "List.sort()\n",
    "Min = int(min(List))\n",
    "Max = int(max(List)) + 1\n",
    "for i in range(Min,Max):\n",
    "    i = str(i)\n",
    "    if i not in List:\n",
    "        print(i,end=\" \")"
   ]
  },
  {
   "cell_type": "markdown",
   "metadata": {},
   "source": [
    "### 5)With a given list L, write a program to print this list L after removing all duplicate values with original order reserved.\n",
    "__Input Format:__\n",
    "In one line take the elements of the list L with each element separated by a space.\n",
    "___Output Format:___\n",
    "Print the elements of the modified list in one line with each element separated by a space.\n",
    "##### Example:\n",
    "__Input:__\n",
    "12 24 35 24 88 120 155 88 120 155\n",
    "___Output:___\n",
    "12 24 35 88 120 155\n",
    ">Explanation:\n",
    "Third, the seventh and ninth element of the list L has been removed because it was already present.\n",
    "Input Format:\n",
    "In one line take the elements of the list L with each element separated by a space.\n",
    "Output Format:\n",
    "Print the elements of the modified list in one line with each element separated by a space."
   ]
  },
  {
   "cell_type": "code",
   "execution_count": 8,
   "metadata": {},
   "outputs": [
    {
     "name": "stdout",
     "output_type": "stream",
     "text": [
      "Enter the intger numbers with missing value with space sperated:12 24 35 24 88 120 155 88 120 155\n",
      "12 24 35 88 120 155 "
     ]
    }
   ],
   "source": [
    "String = input(\"Enter the intger numbers with missing value with space sperated:\")\n",
    "List = list((String.split(\" \")))\n",
    "Final_List = []\n",
    "for i in List:\n",
    "    if i not in Final_List:\n",
    "        Final_List.append(i)\n",
    "        print(i,end = ' ')"
   ]
  }
 ],
 "metadata": {
  "kernelspec": {
   "display_name": "Python 3",
   "language": "python",
   "name": "python3"
  },
  "language_info": {
   "codemirror_mode": {
    "name": "ipython",
    "version": 3
   },
   "file_extension": ".py",
   "mimetype": "text/x-python",
   "name": "python",
   "nbconvert_exporter": "python",
   "pygments_lexer": "ipython3",
   "version": "3.7.3"
  }
 },
 "nbformat": 4,
 "nbformat_minor": 2
}
