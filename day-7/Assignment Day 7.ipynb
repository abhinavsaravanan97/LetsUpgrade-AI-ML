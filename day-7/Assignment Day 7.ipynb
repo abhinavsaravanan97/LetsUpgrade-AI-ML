{
 "cells": [
  {
   "cell_type": "markdown",
   "metadata": {},
   "source": [
    "### 1)Write a program to copy the contents of one file to another using a for loop. (Don’t use built-in copy function)"
   ]
  },
  {
   "cell_type": "code",
   "execution_count": 1,
   "metadata": {},
   "outputs": [],
   "source": [
    "with open(\"text.txt\") as Opened_File:\n",
    "    with open(\"copy.txt\", \"w\") as Written_File:\n",
    "        for line in Opened_File:\n",
    "            Written_File.write(line)"
   ]
  },
  {
   "cell_type": "markdown",
   "metadata": {},
   "source": [
    "### 2)Write a Python program to find maximum and minimum values in the dictionary. Do not use built-in min and max functions."
   ]
  },
  {
   "cell_type": "code",
   "execution_count": 2,
   "metadata": {},
   "outputs": [
    {
     "name": "stdout",
     "output_type": "stream",
     "text": [
      "Maximum values in the dictionary 1500000\n",
      "Minimum values in the dictionary 500000\n"
     ]
    }
   ],
   "source": [
    "Cars = {'BMW':1000000, 'Bens':1500000, 'Hundai': 500000}\n",
    "print(\"Maximum values in the dictionary\",max(Cars.values()))\n",
    "print(\"Minimum values in the dictionary\",min(Cars.values()))"
   ]
  },
  {
   "cell_type": "code",
   "execution_count": null,
   "metadata": {},
   "outputs": [],
   "source": []
  }
 ],
 "metadata": {
  "kernelspec": {
   "display_name": "Python 3",
   "language": "python",
   "name": "python3"
  },
  "language_info": {
   "codemirror_mode": {
    "name": "ipython",
    "version": 3
   },
   "file_extension": ".py",
   "mimetype": "text/x-python",
   "name": "python",
   "nbconvert_exporter": "python",
   "pygments_lexer": "ipython3",
   "version": "3.7.3"
  }
 },
 "nbformat": 4,
 "nbformat_minor": 2
}
